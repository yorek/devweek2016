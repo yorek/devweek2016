{
 "cells": [
  {
   "cell_type": "code",
   "execution_count": 1,
   "metadata": {
    "collapsed": false
   },
   "outputs": [
    {
     "data": {
      "text/html": [
       "<table>\n",
       "<thead><tr><th></th><th scope=col>Sepal.Length</th><th scope=col>Sepal.Width</th><th scope=col>Petal.Length</th><th scope=col>Petal.Width</th><th scope=col>Species</th></tr></thead>\n",
       "<tbody>\n",
       "\t<tr><th scope=row>1</th><td>5.1</td><td>3.5</td><td>1.4</td><td>0.2</td><td>setosa</td></tr>\n",
       "\t<tr><th scope=row>2</th><td>4.9</td><td>3</td><td>1.4</td><td>0.2</td><td>setosa</td></tr>\n",
       "\t<tr><th scope=row>3</th><td>4.7</td><td>3.2</td><td>1.3</td><td>0.2</td><td>setosa</td></tr>\n",
       "\t<tr><th scope=row>4</th><td>4.6</td><td>3.1</td><td>1.5</td><td>0.2</td><td>setosa</td></tr>\n",
       "\t<tr><th scope=row>5</th><td>5</td><td>3.6</td><td>1.4</td><td>0.2</td><td>setosa</td></tr>\n",
       "\t<tr><th scope=row>6</th><td>5.4</td><td>3.9</td><td>1.7</td><td>0.4</td><td>setosa</td></tr>\n",
       "\t<tr><th scope=row>7</th><td>4.6</td><td>3.4</td><td>1.4</td><td>0.3</td><td>setosa</td></tr>\n",
       "\t<tr><th scope=row>8</th><td>5</td><td>3.4</td><td>1.5</td><td>0.2</td><td>setosa</td></tr>\n",
       "\t<tr><th scope=row>9</th><td>4.4</td><td>2.9</td><td>1.4</td><td>0.2</td><td>setosa</td></tr>\n",
       "\t<tr><th scope=row>10</th><td>4.9</td><td>3.1</td><td>1.5</td><td>0.1</td><td>setosa</td></tr>\n",
       "\t<tr><th scope=row>11</th><td>5.4</td><td>3.7</td><td>1.5</td><td>0.2</td><td>setosa</td></tr>\n",
       "\t<tr><th scope=row>12</th><td>4.8</td><td>3.4</td><td>1.6</td><td>0.2</td><td>setosa</td></tr>\n",
       "\t<tr><th scope=row>13</th><td>4.8</td><td>3</td><td>1.4</td><td>0.1</td><td>setosa</td></tr>\n",
       "\t<tr><th scope=row>14</th><td>4.3</td><td>3</td><td>1.1</td><td>0.1</td><td>setosa</td></tr>\n",
       "\t<tr><th scope=row>15</th><td>5.8</td><td>4</td><td>1.2</td><td>0.2</td><td>setosa</td></tr>\n",
       "\t<tr><th scope=row>16</th><td>5.7</td><td>4.4</td><td>1.5</td><td>0.4</td><td>setosa</td></tr>\n",
       "\t<tr><th scope=row>17</th><td>5.4</td><td>3.9</td><td>1.3</td><td>0.4</td><td>setosa</td></tr>\n",
       "\t<tr><th scope=row>18</th><td>5.1</td><td>3.5</td><td>1.4</td><td>0.3</td><td>setosa</td></tr>\n",
       "\t<tr><th scope=row>19</th><td>5.7</td><td>3.8</td><td>1.7</td><td>0.3</td><td>setosa</td></tr>\n",
       "\t<tr><th scope=row>20</th><td>5.1</td><td>3.8</td><td>1.5</td><td>0.3</td><td>setosa</td></tr>\n",
       "\t<tr><th scope=row>21</th><td>5.4</td><td>3.4</td><td>1.7</td><td>0.2</td><td>setosa</td></tr>\n",
       "\t<tr><th scope=row>22</th><td>5.1</td><td>3.7</td><td>1.5</td><td>0.4</td><td>setosa</td></tr>\n",
       "\t<tr><th scope=row>23</th><td>4.6</td><td>3.6</td><td>1</td><td>0.2</td><td>setosa</td></tr>\n",
       "\t<tr><th scope=row>24</th><td>5.1</td><td>3.3</td><td>1.7</td><td>0.5</td><td>setosa</td></tr>\n",
       "\t<tr><th scope=row>25</th><td>4.8</td><td>3.4</td><td>1.9</td><td>0.2</td><td>setosa</td></tr>\n",
       "\t<tr><th scope=row>26</th><td>5</td><td>3</td><td>1.6</td><td>0.2</td><td>setosa</td></tr>\n",
       "\t<tr><th scope=row>27</th><td>5</td><td>3.4</td><td>1.6</td><td>0.4</td><td>setosa</td></tr>\n",
       "\t<tr><th scope=row>28</th><td>5.2</td><td>3.5</td><td>1.5</td><td>0.2</td><td>setosa</td></tr>\n",
       "\t<tr><th scope=row>29</th><td>5.2</td><td>3.4</td><td>1.4</td><td>0.2</td><td>setosa</td></tr>\n",
       "\t<tr><th scope=row>30</th><td>4.7</td><td>3.2</td><td>1.6</td><td>0.2</td><td>setosa</td></tr>\n",
       "\t<tr><th scope=row>31</th><td>4.8</td><td>3.1</td><td>1.6</td><td>0.2</td><td>setosa</td></tr>\n",
       "\t<tr><th scope=row>32</th><td>5.4</td><td>3.4</td><td>1.5</td><td>0.4</td><td>setosa</td></tr>\n",
       "\t<tr><th scope=row>33</th><td>5.2</td><td>4.1</td><td>1.5</td><td>0.1</td><td>setosa</td></tr>\n",
       "\t<tr><th scope=row>34</th><td>5.5</td><td>4.2</td><td>1.4</td><td>0.2</td><td>setosa</td></tr>\n",
       "\t<tr><th scope=row>35</th><td>4.9</td><td>3.1</td><td>1.5</td><td>0.2</td><td>setosa</td></tr>\n",
       "\t<tr><th scope=row>36</th><td>5</td><td>3.2</td><td>1.2</td><td>0.2</td><td>setosa</td></tr>\n",
       "\t<tr><th scope=row>37</th><td>5.5</td><td>3.5</td><td>1.3</td><td>0.2</td><td>setosa</td></tr>\n",
       "\t<tr><th scope=row>38</th><td>4.9</td><td>3.6</td><td>1.4</td><td>0.1</td><td>setosa</td></tr>\n",
       "\t<tr><th scope=row>39</th><td>4.4</td><td>3</td><td>1.3</td><td>0.2</td><td>setosa</td></tr>\n",
       "\t<tr><th scope=row>40</th><td>5.1</td><td>3.4</td><td>1.5</td><td>0.2</td><td>setosa</td></tr>\n",
       "\t<tr><th scope=row>41</th><td>5</td><td>3.5</td><td>1.3</td><td>0.3</td><td>setosa</td></tr>\n",
       "\t<tr><th scope=row>42</th><td>4.5</td><td>2.3</td><td>1.3</td><td>0.3</td><td>setosa</td></tr>\n",
       "\t<tr><th scope=row>43</th><td>4.4</td><td>3.2</td><td>1.3</td><td>0.2</td><td>setosa</td></tr>\n",
       "\t<tr><th scope=row>44</th><td>5</td><td>3.5</td><td>1.6</td><td>0.6</td><td>setosa</td></tr>\n",
       "\t<tr><th scope=row>45</th><td>5.1</td><td>3.8</td><td>1.9</td><td>0.4</td><td>setosa</td></tr>\n",
       "\t<tr><th scope=row>46</th><td>4.8</td><td>3</td><td>1.4</td><td>0.3</td><td>setosa</td></tr>\n",
       "\t<tr><th scope=row>47</th><td>5.1</td><td>3.8</td><td>1.6</td><td>0.2</td><td>setosa</td></tr>\n",
       "\t<tr><th scope=row>48</th><td>4.6</td><td>3.2</td><td>1.4</td><td>0.2</td><td>setosa</td></tr>\n",
       "\t<tr><th scope=row>49</th><td>5.3</td><td>3.7</td><td>1.5</td><td>0.2</td><td>setosa</td></tr>\n",
       "\t<tr><th scope=row>50</th><td>5</td><td>3.3</td><td>1.4</td><td>0.2</td><td>setosa</td></tr>\n",
       "\t<tr><th scope=row>51</th><td>7</td><td>3.2</td><td>4.7</td><td>1.4</td><td>versicolor</td></tr>\n",
       "\t<tr><th scope=row>52</th><td>6.4</td><td>3.2</td><td>4.5</td><td>1.5</td><td>versicolor</td></tr>\n",
       "\t<tr><th scope=row>53</th><td>6.9</td><td>3.1</td><td>4.9</td><td>1.5</td><td>versicolor</td></tr>\n",
       "\t<tr><th scope=row>54</th><td>5.5</td><td>2.3</td><td>4</td><td>1.3</td><td>versicolor</td></tr>\n",
       "\t<tr><th scope=row>55</th><td>6.5</td><td>2.8</td><td>4.6</td><td>1.5</td><td>versicolor</td></tr>\n",
       "\t<tr><th scope=row>56</th><td>5.7</td><td>2.8</td><td>4.5</td><td>1.3</td><td>versicolor</td></tr>\n",
       "\t<tr><th scope=row>57</th><td>6.3</td><td>3.3</td><td>4.7</td><td>1.6</td><td>versicolor</td></tr>\n",
       "\t<tr><th scope=row>58</th><td>4.9</td><td>2.4</td><td>3.3</td><td>1</td><td>versicolor</td></tr>\n",
       "\t<tr><th scope=row>59</th><td>6.6</td><td>2.9</td><td>4.6</td><td>1.3</td><td>versicolor</td></tr>\n",
       "\t<tr><th scope=row>60</th><td>5.2</td><td>2.7</td><td>3.9</td><td>1.4</td><td>versicolor</td></tr>\n",
       "\t<tr><th scope=row>61</th><td>5</td><td>2</td><td>3.5</td><td>1</td><td>versicolor</td></tr>\n",
       "\t<tr><th scope=row>62</th><td>5.9</td><td>3</td><td>4.2</td><td>1.5</td><td>versicolor</td></tr>\n",
       "\t<tr><th scope=row>63</th><td>6</td><td>2.2</td><td>4</td><td>1</td><td>versicolor</td></tr>\n",
       "\t<tr><th scope=row>64</th><td>6.1</td><td>2.9</td><td>4.7</td><td>1.4</td><td>versicolor</td></tr>\n",
       "\t<tr><th scope=row>65</th><td>5.6</td><td>2.9</td><td>3.6</td><td>1.3</td><td>versicolor</td></tr>\n",
       "\t<tr><th scope=row>66</th><td>6.7</td><td>3.1</td><td>4.4</td><td>1.4</td><td>versicolor</td></tr>\n",
       "\t<tr><th scope=row>67</th><td>5.6</td><td>3</td><td>4.5</td><td>1.5</td><td>versicolor</td></tr>\n",
       "\t<tr><th scope=row>68</th><td>5.8</td><td>2.7</td><td>4.1</td><td>1</td><td>versicolor</td></tr>\n",
       "\t<tr><th scope=row>69</th><td>6.2</td><td>2.2</td><td>4.5</td><td>1.5</td><td>versicolor</td></tr>\n",
       "\t<tr><th scope=row>70</th><td>5.6</td><td>2.5</td><td>3.9</td><td>1.1</td><td>versicolor</td></tr>\n",
       "\t<tr><th scope=row>71</th><td>5.9</td><td>3.2</td><td>4.8</td><td>1.8</td><td>versicolor</td></tr>\n",
       "\t<tr><th scope=row>72</th><td>6.1</td><td>2.8</td><td>4</td><td>1.3</td><td>versicolor</td></tr>\n",
       "\t<tr><th scope=row>73</th><td>6.3</td><td>2.5</td><td>4.9</td><td>1.5</td><td>versicolor</td></tr>\n",
       "\t<tr><th scope=row>74</th><td>6.1</td><td>2.8</td><td>4.7</td><td>1.2</td><td>versicolor</td></tr>\n",
       "\t<tr><th scope=row>75</th><td>6.4</td><td>2.9</td><td>4.3</td><td>1.3</td><td>versicolor</td></tr>\n",
       "\t<tr><th scope=row>76</th><td>6.6</td><td>3</td><td>4.4</td><td>1.4</td><td>versicolor</td></tr>\n",
       "\t<tr><th scope=row>77</th><td>6.8</td><td>2.8</td><td>4.8</td><td>1.4</td><td>versicolor</td></tr>\n",
       "\t<tr><th scope=row>78</th><td>6.7</td><td>3</td><td>5</td><td>1.7</td><td>versicolor</td></tr>\n",
       "\t<tr><th scope=row>79</th><td>6</td><td>2.9</td><td>4.5</td><td>1.5</td><td>versicolor</td></tr>\n",
       "\t<tr><th scope=row>80</th><td>5.7</td><td>2.6</td><td>3.5</td><td>1</td><td>versicolor</td></tr>\n",
       "\t<tr><th scope=row>81</th><td>5.5</td><td>2.4</td><td>3.8</td><td>1.1</td><td>versicolor</td></tr>\n",
       "\t<tr><th scope=row>82</th><td>5.5</td><td>2.4</td><td>3.7</td><td>1</td><td>versicolor</td></tr>\n",
       "\t<tr><th scope=row>83</th><td>5.8</td><td>2.7</td><td>3.9</td><td>1.2</td><td>versicolor</td></tr>\n",
       "\t<tr><th scope=row>84</th><td>6</td><td>2.7</td><td>5.1</td><td>1.6</td><td>versicolor</td></tr>\n",
       "\t<tr><th scope=row>85</th><td>5.4</td><td>3</td><td>4.5</td><td>1.5</td><td>versicolor</td></tr>\n",
       "\t<tr><th scope=row>86</th><td>6</td><td>3.4</td><td>4.5</td><td>1.6</td><td>versicolor</td></tr>\n",
       "\t<tr><th scope=row>87</th><td>6.7</td><td>3.1</td><td>4.7</td><td>1.5</td><td>versicolor</td></tr>\n",
       "\t<tr><th scope=row>88</th><td>6.3</td><td>2.3</td><td>4.4</td><td>1.3</td><td>versicolor</td></tr>\n",
       "\t<tr><th scope=row>89</th><td>5.6</td><td>3</td><td>4.1</td><td>1.3</td><td>versicolor</td></tr>\n",
       "\t<tr><th scope=row>90</th><td>5.5</td><td>2.5</td><td>4</td><td>1.3</td><td>versicolor</td></tr>\n",
       "\t<tr><th scope=row>91</th><td>5.5</td><td>2.6</td><td>4.4</td><td>1.2</td><td>versicolor</td></tr>\n",
       "\t<tr><th scope=row>92</th><td>6.1</td><td>3</td><td>4.6</td><td>1.4</td><td>versicolor</td></tr>\n",
       "\t<tr><th scope=row>93</th><td>5.8</td><td>2.6</td><td>4</td><td>1.2</td><td>versicolor</td></tr>\n",
       "\t<tr><th scope=row>94</th><td>5</td><td>2.3</td><td>3.3</td><td>1</td><td>versicolor</td></tr>\n",
       "\t<tr><th scope=row>95</th><td>5.6</td><td>2.7</td><td>4.2</td><td>1.3</td><td>versicolor</td></tr>\n",
       "\t<tr><th scope=row>96</th><td>5.7</td><td>3</td><td>4.2</td><td>1.2</td><td>versicolor</td></tr>\n",
       "\t<tr><th scope=row>97</th><td>5.7</td><td>2.9</td><td>4.2</td><td>1.3</td><td>versicolor</td></tr>\n",
       "\t<tr><th scope=row>98</th><td>6.2</td><td>2.9</td><td>4.3</td><td>1.3</td><td>versicolor</td></tr>\n",
       "\t<tr><th scope=row>99</th><td>5.1</td><td>2.5</td><td>3</td><td>1.1</td><td>versicolor</td></tr>\n",
       "\t<tr><th scope=row>100</th><td>5.7</td><td>2.8</td><td>4.1</td><td>1.3</td><td>versicolor</td></tr>\n",
       "\t<tr><th scope=row>101</th><td>6.3</td><td>3.3</td><td>6</td><td>2.5</td><td>virginica</td></tr>\n",
       "\t<tr><th scope=row>102</th><td>5.8</td><td>2.7</td><td>5.1</td><td>1.9</td><td>virginica</td></tr>\n",
       "\t<tr><th scope=row>103</th><td>7.1</td><td>3</td><td>5.9</td><td>2.1</td><td>virginica</td></tr>\n",
       "\t<tr><th scope=row>104</th><td>6.3</td><td>2.9</td><td>5.6</td><td>1.8</td><td>virginica</td></tr>\n",
       "\t<tr><th scope=row>105</th><td>6.5</td><td>3</td><td>5.8</td><td>2.2</td><td>virginica</td></tr>\n",
       "\t<tr><th scope=row>106</th><td>7.6</td><td>3</td><td>6.6</td><td>2.1</td><td>virginica</td></tr>\n",
       "\t<tr><th scope=row>107</th><td>4.9</td><td>2.5</td><td>4.5</td><td>1.7</td><td>virginica</td></tr>\n",
       "\t<tr><th scope=row>108</th><td>7.3</td><td>2.9</td><td>6.3</td><td>1.8</td><td>virginica</td></tr>\n",
       "\t<tr><th scope=row>109</th><td>6.7</td><td>2.5</td><td>5.8</td><td>1.8</td><td>virginica</td></tr>\n",
       "\t<tr><th scope=row>110</th><td>7.2</td><td>3.6</td><td>6.1</td><td>2.5</td><td>virginica</td></tr>\n",
       "\t<tr><th scope=row>111</th><td>6.5</td><td>3.2</td><td>5.1</td><td>2</td><td>virginica</td></tr>\n",
       "\t<tr><th scope=row>112</th><td>6.4</td><td>2.7</td><td>5.3</td><td>1.9</td><td>virginica</td></tr>\n",
       "\t<tr><th scope=row>113</th><td>6.8</td><td>3</td><td>5.5</td><td>2.1</td><td>virginica</td></tr>\n",
       "\t<tr><th scope=row>114</th><td>5.7</td><td>2.5</td><td>5</td><td>2</td><td>virginica</td></tr>\n",
       "\t<tr><th scope=row>115</th><td>5.8</td><td>2.8</td><td>5.1</td><td>2.4</td><td>virginica</td></tr>\n",
       "\t<tr><th scope=row>116</th><td>6.4</td><td>3.2</td><td>5.3</td><td>2.3</td><td>virginica</td></tr>\n",
       "\t<tr><th scope=row>117</th><td>6.5</td><td>3</td><td>5.5</td><td>1.8</td><td>virginica</td></tr>\n",
       "\t<tr><th scope=row>118</th><td>7.7</td><td>3.8</td><td>6.7</td><td>2.2</td><td>virginica</td></tr>\n",
       "\t<tr><th scope=row>119</th><td>7.7</td><td>2.6</td><td>6.9</td><td>2.3</td><td>virginica</td></tr>\n",
       "\t<tr><th scope=row>120</th><td>6</td><td>2.2</td><td>5</td><td>1.5</td><td>virginica</td></tr>\n",
       "\t<tr><th scope=row>121</th><td>6.9</td><td>3.2</td><td>5.7</td><td>2.3</td><td>virginica</td></tr>\n",
       "\t<tr><th scope=row>122</th><td>5.6</td><td>2.8</td><td>4.9</td><td>2</td><td>virginica</td></tr>\n",
       "\t<tr><th scope=row>123</th><td>7.7</td><td>2.8</td><td>6.7</td><td>2</td><td>virginica</td></tr>\n",
       "\t<tr><th scope=row>124</th><td>6.3</td><td>2.7</td><td>4.9</td><td>1.8</td><td>virginica</td></tr>\n",
       "\t<tr><th scope=row>125</th><td>6.7</td><td>3.3</td><td>5.7</td><td>2.1</td><td>virginica</td></tr>\n",
       "\t<tr><th scope=row>126</th><td>7.2</td><td>3.2</td><td>6</td><td>1.8</td><td>virginica</td></tr>\n",
       "\t<tr><th scope=row>127</th><td>6.2</td><td>2.8</td><td>4.8</td><td>1.8</td><td>virginica</td></tr>\n",
       "\t<tr><th scope=row>128</th><td>6.1</td><td>3</td><td>4.9</td><td>1.8</td><td>virginica</td></tr>\n",
       "\t<tr><th scope=row>129</th><td>6.4</td><td>2.8</td><td>5.6</td><td>2.1</td><td>virginica</td></tr>\n",
       "\t<tr><th scope=row>130</th><td>7.2</td><td>3</td><td>5.8</td><td>1.6</td><td>virginica</td></tr>\n",
       "\t<tr><th scope=row>131</th><td>7.4</td><td>2.8</td><td>6.1</td><td>1.9</td><td>virginica</td></tr>\n",
       "\t<tr><th scope=row>132</th><td>7.9</td><td>3.8</td><td>6.4</td><td>2</td><td>virginica</td></tr>\n",
       "\t<tr><th scope=row>133</th><td>6.4</td><td>2.8</td><td>5.6</td><td>2.2</td><td>virginica</td></tr>\n",
       "\t<tr><th scope=row>134</th><td>6.3</td><td>2.8</td><td>5.1</td><td>1.5</td><td>virginica</td></tr>\n",
       "\t<tr><th scope=row>135</th><td>6.1</td><td>2.6</td><td>5.6</td><td>1.4</td><td>virginica</td></tr>\n",
       "\t<tr><th scope=row>136</th><td>7.7</td><td>3</td><td>6.1</td><td>2.3</td><td>virginica</td></tr>\n",
       "\t<tr><th scope=row>137</th><td>6.3</td><td>3.4</td><td>5.6</td><td>2.4</td><td>virginica</td></tr>\n",
       "\t<tr><th scope=row>138</th><td>6.4</td><td>3.1</td><td>5.5</td><td>1.8</td><td>virginica</td></tr>\n",
       "\t<tr><th scope=row>139</th><td>6</td><td>3</td><td>4.8</td><td>1.8</td><td>virginica</td></tr>\n",
       "\t<tr><th scope=row>140</th><td>6.9</td><td>3.1</td><td>5.4</td><td>2.1</td><td>virginica</td></tr>\n",
       "\t<tr><th scope=row>141</th><td>6.7</td><td>3.1</td><td>5.6</td><td>2.4</td><td>virginica</td></tr>\n",
       "\t<tr><th scope=row>142</th><td>6.9</td><td>3.1</td><td>5.1</td><td>2.3</td><td>virginica</td></tr>\n",
       "\t<tr><th scope=row>143</th><td>5.8</td><td>2.7</td><td>5.1</td><td>1.9</td><td>virginica</td></tr>\n",
       "\t<tr><th scope=row>144</th><td>6.8</td><td>3.2</td><td>5.9</td><td>2.3</td><td>virginica</td></tr>\n",
       "\t<tr><th scope=row>145</th><td>6.7</td><td>3.3</td><td>5.7</td><td>2.5</td><td>virginica</td></tr>\n",
       "\t<tr><th scope=row>146</th><td>6.7</td><td>3</td><td>5.2</td><td>2.3</td><td>virginica</td></tr>\n",
       "\t<tr><th scope=row>147</th><td>6.3</td><td>2.5</td><td>5</td><td>1.9</td><td>virginica</td></tr>\n",
       "\t<tr><th scope=row>148</th><td>6.5</td><td>3</td><td>5.2</td><td>2</td><td>virginica</td></tr>\n",
       "\t<tr><th scope=row>149</th><td>6.2</td><td>3.4</td><td>5.4</td><td>2.3</td><td>virginica</td></tr>\n",
       "\t<tr><th scope=row>150</th><td>5.9</td><td>3</td><td>5.1</td><td>1.8</td><td>virginica</td></tr>\n",
       "</tbody>\n",
       "</table>\n"
      ],
      "text/latex": [
       "\\begin{tabular}{r|lllll}\n",
       "  & Sepal.Length & Sepal.Width & Petal.Length & Petal.Width & Species\\\\\n",
       "\\hline\n",
       "\t1 & 5.1 & 3.5 & 1.4 & 0.2 & setosa\\\\\n",
       "\t2 & 4.9 & 3 & 1.4 & 0.2 & setosa\\\\\n",
       "\t3 & 4.7 & 3.2 & 1.3 & 0.2 & setosa\\\\\n",
       "\t4 & 4.6 & 3.1 & 1.5 & 0.2 & setosa\\\\\n",
       "\t5 & 5 & 3.6 & 1.4 & 0.2 & setosa\\\\\n",
       "\t6 & 5.4 & 3.9 & 1.7 & 0.4 & setosa\\\\\n",
       "\t7 & 4.6 & 3.4 & 1.4 & 0.3 & setosa\\\\\n",
       "\t8 & 5 & 3.4 & 1.5 & 0.2 & setosa\\\\\n",
       "\t9 & 4.4 & 2.9 & 1.4 & 0.2 & setosa\\\\\n",
       "\t10 & 4.9 & 3.1 & 1.5 & 0.1 & setosa\\\\\n",
       "\t11 & 5.4 & 3.7 & 1.5 & 0.2 & setosa\\\\\n",
       "\t12 & 4.8 & 3.4 & 1.6 & 0.2 & setosa\\\\\n",
       "\t13 & 4.8 & 3 & 1.4 & 0.1 & setosa\\\\\n",
       "\t14 & 4.3 & 3 & 1.1 & 0.1 & setosa\\\\\n",
       "\t15 & 5.8 & 4 & 1.2 & 0.2 & setosa\\\\\n",
       "\t16 & 5.7 & 4.4 & 1.5 & 0.4 & setosa\\\\\n",
       "\t17 & 5.4 & 3.9 & 1.3 & 0.4 & setosa\\\\\n",
       "\t18 & 5.1 & 3.5 & 1.4 & 0.3 & setosa\\\\\n",
       "\t19 & 5.7 & 3.8 & 1.7 & 0.3 & setosa\\\\\n",
       "\t20 & 5.1 & 3.8 & 1.5 & 0.3 & setosa\\\\\n",
       "\t21 & 5.4 & 3.4 & 1.7 & 0.2 & setosa\\\\\n",
       "\t22 & 5.1 & 3.7 & 1.5 & 0.4 & setosa\\\\\n",
       "\t23 & 4.6 & 3.6 & 1 & 0.2 & setosa\\\\\n",
       "\t24 & 5.1 & 3.3 & 1.7 & 0.5 & setosa\\\\\n",
       "\t25 & 4.8 & 3.4 & 1.9 & 0.2 & setosa\\\\\n",
       "\t26 & 5 & 3 & 1.6 & 0.2 & setosa\\\\\n",
       "\t27 & 5 & 3.4 & 1.6 & 0.4 & setosa\\\\\n",
       "\t28 & 5.2 & 3.5 & 1.5 & 0.2 & setosa\\\\\n",
       "\t29 & 5.2 & 3.4 & 1.4 & 0.2 & setosa\\\\\n",
       "\t30 & 4.7 & 3.2 & 1.6 & 0.2 & setosa\\\\\n",
       "\t31 & 4.8 & 3.1 & 1.6 & 0.2 & setosa\\\\\n",
       "\t32 & 5.4 & 3.4 & 1.5 & 0.4 & setosa\\\\\n",
       "\t33 & 5.2 & 4.1 & 1.5 & 0.1 & setosa\\\\\n",
       "\t34 & 5.5 & 4.2 & 1.4 & 0.2 & setosa\\\\\n",
       "\t35 & 4.9 & 3.1 & 1.5 & 0.2 & setosa\\\\\n",
       "\t36 & 5 & 3.2 & 1.2 & 0.2 & setosa\\\\\n",
       "\t37 & 5.5 & 3.5 & 1.3 & 0.2 & setosa\\\\\n",
       "\t38 & 4.9 & 3.6 & 1.4 & 0.1 & setosa\\\\\n",
       "\t39 & 4.4 & 3 & 1.3 & 0.2 & setosa\\\\\n",
       "\t40 & 5.1 & 3.4 & 1.5 & 0.2 & setosa\\\\\n",
       "\t41 & 5 & 3.5 & 1.3 & 0.3 & setosa\\\\\n",
       "\t42 & 4.5 & 2.3 & 1.3 & 0.3 & setosa\\\\\n",
       "\t43 & 4.4 & 3.2 & 1.3 & 0.2 & setosa\\\\\n",
       "\t44 & 5 & 3.5 & 1.6 & 0.6 & setosa\\\\\n",
       "\t45 & 5.1 & 3.8 & 1.9 & 0.4 & setosa\\\\\n",
       "\t46 & 4.8 & 3 & 1.4 & 0.3 & setosa\\\\\n",
       "\t47 & 5.1 & 3.8 & 1.6 & 0.2 & setosa\\\\\n",
       "\t48 & 4.6 & 3.2 & 1.4 & 0.2 & setosa\\\\\n",
       "\t49 & 5.3 & 3.7 & 1.5 & 0.2 & setosa\\\\\n",
       "\t50 & 5 & 3.3 & 1.4 & 0.2 & setosa\\\\\n",
       "\t51 & 7 & 3.2 & 4.7 & 1.4 & versicolor\\\\\n",
       "\t52 & 6.4 & 3.2 & 4.5 & 1.5 & versicolor\\\\\n",
       "\t53 & 6.9 & 3.1 & 4.9 & 1.5 & versicolor\\\\\n",
       "\t54 & 5.5 & 2.3 & 4 & 1.3 & versicolor\\\\\n",
       "\t55 & 6.5 & 2.8 & 4.6 & 1.5 & versicolor\\\\\n",
       "\t56 & 5.7 & 2.8 & 4.5 & 1.3 & versicolor\\\\\n",
       "\t57 & 6.3 & 3.3 & 4.7 & 1.6 & versicolor\\\\\n",
       "\t58 & 4.9 & 2.4 & 3.3 & 1 & versicolor\\\\\n",
       "\t59 & 6.6 & 2.9 & 4.6 & 1.3 & versicolor\\\\\n",
       "\t60 & 5.2 & 2.7 & 3.9 & 1.4 & versicolor\\\\\n",
       "\t61 & 5 & 2 & 3.5 & 1 & versicolor\\\\\n",
       "\t62 & 5.9 & 3 & 4.2 & 1.5 & versicolor\\\\\n",
       "\t63 & 6 & 2.2 & 4 & 1 & versicolor\\\\\n",
       "\t64 & 6.1 & 2.9 & 4.7 & 1.4 & versicolor\\\\\n",
       "\t65 & 5.6 & 2.9 & 3.6 & 1.3 & versicolor\\\\\n",
       "\t66 & 6.7 & 3.1 & 4.4 & 1.4 & versicolor\\\\\n",
       "\t67 & 5.6 & 3 & 4.5 & 1.5 & versicolor\\\\\n",
       "\t68 & 5.8 & 2.7 & 4.1 & 1 & versicolor\\\\\n",
       "\t69 & 6.2 & 2.2 & 4.5 & 1.5 & versicolor\\\\\n",
       "\t70 & 5.6 & 2.5 & 3.9 & 1.1 & versicolor\\\\\n",
       "\t71 & 5.9 & 3.2 & 4.8 & 1.8 & versicolor\\\\\n",
       "\t72 & 6.1 & 2.8 & 4 & 1.3 & versicolor\\\\\n",
       "\t73 & 6.3 & 2.5 & 4.9 & 1.5 & versicolor\\\\\n",
       "\t74 & 6.1 & 2.8 & 4.7 & 1.2 & versicolor\\\\\n",
       "\t75 & 6.4 & 2.9 & 4.3 & 1.3 & versicolor\\\\\n",
       "\t76 & 6.6 & 3 & 4.4 & 1.4 & versicolor\\\\\n",
       "\t77 & 6.8 & 2.8 & 4.8 & 1.4 & versicolor\\\\\n",
       "\t78 & 6.7 & 3 & 5 & 1.7 & versicolor\\\\\n",
       "\t79 & 6 & 2.9 & 4.5 & 1.5 & versicolor\\\\\n",
       "\t80 & 5.7 & 2.6 & 3.5 & 1 & versicolor\\\\\n",
       "\t81 & 5.5 & 2.4 & 3.8 & 1.1 & versicolor\\\\\n",
       "\t82 & 5.5 & 2.4 & 3.7 & 1 & versicolor\\\\\n",
       "\t83 & 5.8 & 2.7 & 3.9 & 1.2 & versicolor\\\\\n",
       "\t84 & 6 & 2.7 & 5.1 & 1.6 & versicolor\\\\\n",
       "\t85 & 5.4 & 3 & 4.5 & 1.5 & versicolor\\\\\n",
       "\t86 & 6 & 3.4 & 4.5 & 1.6 & versicolor\\\\\n",
       "\t87 & 6.7 & 3.1 & 4.7 & 1.5 & versicolor\\\\\n",
       "\t88 & 6.3 & 2.3 & 4.4 & 1.3 & versicolor\\\\\n",
       "\t89 & 5.6 & 3 & 4.1 & 1.3 & versicolor\\\\\n",
       "\t90 & 5.5 & 2.5 & 4 & 1.3 & versicolor\\\\\n",
       "\t91 & 5.5 & 2.6 & 4.4 & 1.2 & versicolor\\\\\n",
       "\t92 & 6.1 & 3 & 4.6 & 1.4 & versicolor\\\\\n",
       "\t93 & 5.8 & 2.6 & 4 & 1.2 & versicolor\\\\\n",
       "\t94 & 5 & 2.3 & 3.3 & 1 & versicolor\\\\\n",
       "\t95 & 5.6 & 2.7 & 4.2 & 1.3 & versicolor\\\\\n",
       "\t96 & 5.7 & 3 & 4.2 & 1.2 & versicolor\\\\\n",
       "\t97 & 5.7 & 2.9 & 4.2 & 1.3 & versicolor\\\\\n",
       "\t98 & 6.2 & 2.9 & 4.3 & 1.3 & versicolor\\\\\n",
       "\t99 & 5.1 & 2.5 & 3 & 1.1 & versicolor\\\\\n",
       "\t100 & 5.7 & 2.8 & 4.1 & 1.3 & versicolor\\\\\n",
       "\t101 & 6.3 & 3.3 & 6 & 2.5 & virginica\\\\\n",
       "\t102 & 5.8 & 2.7 & 5.1 & 1.9 & virginica\\\\\n",
       "\t103 & 7.1 & 3 & 5.9 & 2.1 & virginica\\\\\n",
       "\t104 & 6.3 & 2.9 & 5.6 & 1.8 & virginica\\\\\n",
       "\t105 & 6.5 & 3 & 5.8 & 2.2 & virginica\\\\\n",
       "\t106 & 7.6 & 3 & 6.6 & 2.1 & virginica\\\\\n",
       "\t107 & 4.9 & 2.5 & 4.5 & 1.7 & virginica\\\\\n",
       "\t108 & 7.3 & 2.9 & 6.3 & 1.8 & virginica\\\\\n",
       "\t109 & 6.7 & 2.5 & 5.8 & 1.8 & virginica\\\\\n",
       "\t110 & 7.2 & 3.6 & 6.1 & 2.5 & virginica\\\\\n",
       "\t111 & 6.5 & 3.2 & 5.1 & 2 & virginica\\\\\n",
       "\t112 & 6.4 & 2.7 & 5.3 & 1.9 & virginica\\\\\n",
       "\t113 & 6.8 & 3 & 5.5 & 2.1 & virginica\\\\\n",
       "\t114 & 5.7 & 2.5 & 5 & 2 & virginica\\\\\n",
       "\t115 & 5.8 & 2.8 & 5.1 & 2.4 & virginica\\\\\n",
       "\t116 & 6.4 & 3.2 & 5.3 & 2.3 & virginica\\\\\n",
       "\t117 & 6.5 & 3 & 5.5 & 1.8 & virginica\\\\\n",
       "\t118 & 7.7 & 3.8 & 6.7 & 2.2 & virginica\\\\\n",
       "\t119 & 7.7 & 2.6 & 6.9 & 2.3 & virginica\\\\\n",
       "\t120 & 6 & 2.2 & 5 & 1.5 & virginica\\\\\n",
       "\t121 & 6.9 & 3.2 & 5.7 & 2.3 & virginica\\\\\n",
       "\t122 & 5.6 & 2.8 & 4.9 & 2 & virginica\\\\\n",
       "\t123 & 7.7 & 2.8 & 6.7 & 2 & virginica\\\\\n",
       "\t124 & 6.3 & 2.7 & 4.9 & 1.8 & virginica\\\\\n",
       "\t125 & 6.7 & 3.3 & 5.7 & 2.1 & virginica\\\\\n",
       "\t126 & 7.2 & 3.2 & 6 & 1.8 & virginica\\\\\n",
       "\t127 & 6.2 & 2.8 & 4.8 & 1.8 & virginica\\\\\n",
       "\t128 & 6.1 & 3 & 4.9 & 1.8 & virginica\\\\\n",
       "\t129 & 6.4 & 2.8 & 5.6 & 2.1 & virginica\\\\\n",
       "\t130 & 7.2 & 3 & 5.8 & 1.6 & virginica\\\\\n",
       "\t131 & 7.4 & 2.8 & 6.1 & 1.9 & virginica\\\\\n",
       "\t132 & 7.9 & 3.8 & 6.4 & 2 & virginica\\\\\n",
       "\t133 & 6.4 & 2.8 & 5.6 & 2.2 & virginica\\\\\n",
       "\t134 & 6.3 & 2.8 & 5.1 & 1.5 & virginica\\\\\n",
       "\t135 & 6.1 & 2.6 & 5.6 & 1.4 & virginica\\\\\n",
       "\t136 & 7.7 & 3 & 6.1 & 2.3 & virginica\\\\\n",
       "\t137 & 6.3 & 3.4 & 5.6 & 2.4 & virginica\\\\\n",
       "\t138 & 6.4 & 3.1 & 5.5 & 1.8 & virginica\\\\\n",
       "\t139 & 6 & 3 & 4.8 & 1.8 & virginica\\\\\n",
       "\t140 & 6.9 & 3.1 & 5.4 & 2.1 & virginica\\\\\n",
       "\t141 & 6.7 & 3.1 & 5.6 & 2.4 & virginica\\\\\n",
       "\t142 & 6.9 & 3.1 & 5.1 & 2.3 & virginica\\\\\n",
       "\t143 & 5.8 & 2.7 & 5.1 & 1.9 & virginica\\\\\n",
       "\t144 & 6.8 & 3.2 & 5.9 & 2.3 & virginica\\\\\n",
       "\t145 & 6.7 & 3.3 & 5.7 & 2.5 & virginica\\\\\n",
       "\t146 & 6.7 & 3 & 5.2 & 2.3 & virginica\\\\\n",
       "\t147 & 6.3 & 2.5 & 5 & 1.9 & virginica\\\\\n",
       "\t148 & 6.5 & 3 & 5.2 & 2 & virginica\\\\\n",
       "\t149 & 6.2 & 3.4 & 5.4 & 2.3 & virginica\\\\\n",
       "\t150 & 5.9 & 3 & 5.1 & 1.8 & virginica\\\\\n",
       "\\end{tabular}\n"
      ],
      "text/plain": [
       "    Sepal.Length Sepal.Width Petal.Length Petal.Width    Species\n",
       "1            5.1         3.5          1.4         0.2     setosa\n",
       "2            4.9         3.0          1.4         0.2     setosa\n",
       "3            4.7         3.2          1.3         0.2     setosa\n",
       "4            4.6         3.1          1.5         0.2     setosa\n",
       "5            5.0         3.6          1.4         0.2     setosa\n",
       "6            5.4         3.9          1.7         0.4     setosa\n",
       "7            4.6         3.4          1.4         0.3     setosa\n",
       "8            5.0         3.4          1.5         0.2     setosa\n",
       "9            4.4         2.9          1.4         0.2     setosa\n",
       "10           4.9         3.1          1.5         0.1     setosa\n",
       "11           5.4         3.7          1.5         0.2     setosa\n",
       "12           4.8         3.4          1.6         0.2     setosa\n",
       "13           4.8         3.0          1.4         0.1     setosa\n",
       "14           4.3         3.0          1.1         0.1     setosa\n",
       "15           5.8         4.0          1.2         0.2     setosa\n",
       "16           5.7         4.4          1.5         0.4     setosa\n",
       "17           5.4         3.9          1.3         0.4     setosa\n",
       "18           5.1         3.5          1.4         0.3     setosa\n",
       "19           5.7         3.8          1.7         0.3     setosa\n",
       "20           5.1         3.8          1.5         0.3     setosa\n",
       "21           5.4         3.4          1.7         0.2     setosa\n",
       "22           5.1         3.7          1.5         0.4     setosa\n",
       "23           4.6         3.6          1.0         0.2     setosa\n",
       "24           5.1         3.3          1.7         0.5     setosa\n",
       "25           4.8         3.4          1.9         0.2     setosa\n",
       "26           5.0         3.0          1.6         0.2     setosa\n",
       "27           5.0         3.4          1.6         0.4     setosa\n",
       "28           5.2         3.5          1.5         0.2     setosa\n",
       "29           5.2         3.4          1.4         0.2     setosa\n",
       "30           4.7         3.2          1.6         0.2     setosa\n",
       "31           4.8         3.1          1.6         0.2     setosa\n",
       "32           5.4         3.4          1.5         0.4     setosa\n",
       "33           5.2         4.1          1.5         0.1     setosa\n",
       "34           5.5         4.2          1.4         0.2     setosa\n",
       "35           4.9         3.1          1.5         0.2     setosa\n",
       "36           5.0         3.2          1.2         0.2     setosa\n",
       "37           5.5         3.5          1.3         0.2     setosa\n",
       "38           4.9         3.6          1.4         0.1     setosa\n",
       "39           4.4         3.0          1.3         0.2     setosa\n",
       "40           5.1         3.4          1.5         0.2     setosa\n",
       "41           5.0         3.5          1.3         0.3     setosa\n",
       "42           4.5         2.3          1.3         0.3     setosa\n",
       "43           4.4         3.2          1.3         0.2     setosa\n",
       "44           5.0         3.5          1.6         0.6     setosa\n",
       "45           5.1         3.8          1.9         0.4     setosa\n",
       "46           4.8         3.0          1.4         0.3     setosa\n",
       "47           5.1         3.8          1.6         0.2     setosa\n",
       "48           4.6         3.2          1.4         0.2     setosa\n",
       "49           5.3         3.7          1.5         0.2     setosa\n",
       "50           5.0         3.3          1.4         0.2     setosa\n",
       "51           7.0         3.2          4.7         1.4 versicolor\n",
       "52           6.4         3.2          4.5         1.5 versicolor\n",
       "53           6.9         3.1          4.9         1.5 versicolor\n",
       "54           5.5         2.3          4.0         1.3 versicolor\n",
       "55           6.5         2.8          4.6         1.5 versicolor\n",
       "56           5.7         2.8          4.5         1.3 versicolor\n",
       "57           6.3         3.3          4.7         1.6 versicolor\n",
       "58           4.9         2.4          3.3         1.0 versicolor\n",
       "59           6.6         2.9          4.6         1.3 versicolor\n",
       "60           5.2         2.7          3.9         1.4 versicolor\n",
       "61           5.0         2.0          3.5         1.0 versicolor\n",
       "62           5.9         3.0          4.2         1.5 versicolor\n",
       "63           6.0         2.2          4.0         1.0 versicolor\n",
       "64           6.1         2.9          4.7         1.4 versicolor\n",
       "65           5.6         2.9          3.6         1.3 versicolor\n",
       "66           6.7         3.1          4.4         1.4 versicolor\n",
       "67           5.6         3.0          4.5         1.5 versicolor\n",
       "68           5.8         2.7          4.1         1.0 versicolor\n",
       "69           6.2         2.2          4.5         1.5 versicolor\n",
       "70           5.6         2.5          3.9         1.1 versicolor\n",
       "71           5.9         3.2          4.8         1.8 versicolor\n",
       "72           6.1         2.8          4.0         1.3 versicolor\n",
       "73           6.3         2.5          4.9         1.5 versicolor\n",
       "74           6.1         2.8          4.7         1.2 versicolor\n",
       "75           6.4         2.9          4.3         1.3 versicolor\n",
       "76           6.6         3.0          4.4         1.4 versicolor\n",
       "77           6.8         2.8          4.8         1.4 versicolor\n",
       "78           6.7         3.0          5.0         1.7 versicolor\n",
       "79           6.0         2.9          4.5         1.5 versicolor\n",
       "80           5.7         2.6          3.5         1.0 versicolor\n",
       "81           5.5         2.4          3.8         1.1 versicolor\n",
       "82           5.5         2.4          3.7         1.0 versicolor\n",
       "83           5.8         2.7          3.9         1.2 versicolor\n",
       "84           6.0         2.7          5.1         1.6 versicolor\n",
       "85           5.4         3.0          4.5         1.5 versicolor\n",
       "86           6.0         3.4          4.5         1.6 versicolor\n",
       "87           6.7         3.1          4.7         1.5 versicolor\n",
       "88           6.3         2.3          4.4         1.3 versicolor\n",
       "89           5.6         3.0          4.1         1.3 versicolor\n",
       "90           5.5         2.5          4.0         1.3 versicolor\n",
       "91           5.5         2.6          4.4         1.2 versicolor\n",
       "92           6.1         3.0          4.6         1.4 versicolor\n",
       "93           5.8         2.6          4.0         1.2 versicolor\n",
       "94           5.0         2.3          3.3         1.0 versicolor\n",
       "95           5.6         2.7          4.2         1.3 versicolor\n",
       "96           5.7         3.0          4.2         1.2 versicolor\n",
       "97           5.7         2.9          4.2         1.3 versicolor\n",
       "98           6.2         2.9          4.3         1.3 versicolor\n",
       "99           5.1         2.5          3.0         1.1 versicolor\n",
       "100          5.7         2.8          4.1         1.3 versicolor\n",
       "101          6.3         3.3          6.0         2.5  virginica\n",
       "102          5.8         2.7          5.1         1.9  virginica\n",
       "103          7.1         3.0          5.9         2.1  virginica\n",
       "104          6.3         2.9          5.6         1.8  virginica\n",
       "105          6.5         3.0          5.8         2.2  virginica\n",
       "106          7.6         3.0          6.6         2.1  virginica\n",
       "107          4.9         2.5          4.5         1.7  virginica\n",
       "108          7.3         2.9          6.3         1.8  virginica\n",
       "109          6.7         2.5          5.8         1.8  virginica\n",
       "110          7.2         3.6          6.1         2.5  virginica\n",
       "111          6.5         3.2          5.1         2.0  virginica\n",
       "112          6.4         2.7          5.3         1.9  virginica\n",
       "113          6.8         3.0          5.5         2.1  virginica\n",
       "114          5.7         2.5          5.0         2.0  virginica\n",
       "115          5.8         2.8          5.1         2.4  virginica\n",
       "116          6.4         3.2          5.3         2.3  virginica\n",
       "117          6.5         3.0          5.5         1.8  virginica\n",
       "118          7.7         3.8          6.7         2.2  virginica\n",
       "119          7.7         2.6          6.9         2.3  virginica\n",
       "120          6.0         2.2          5.0         1.5  virginica\n",
       "121          6.9         3.2          5.7         2.3  virginica\n",
       "122          5.6         2.8          4.9         2.0  virginica\n",
       "123          7.7         2.8          6.7         2.0  virginica\n",
       "124          6.3         2.7          4.9         1.8  virginica\n",
       "125          6.7         3.3          5.7         2.1  virginica\n",
       "126          7.2         3.2          6.0         1.8  virginica\n",
       "127          6.2         2.8          4.8         1.8  virginica\n",
       "128          6.1         3.0          4.9         1.8  virginica\n",
       "129          6.4         2.8          5.6         2.1  virginica\n",
       "130          7.2         3.0          5.8         1.6  virginica\n",
       "131          7.4         2.8          6.1         1.9  virginica\n",
       "132          7.9         3.8          6.4         2.0  virginica\n",
       "133          6.4         2.8          5.6         2.2  virginica\n",
       "134          6.3         2.8          5.1         1.5  virginica\n",
       "135          6.1         2.6          5.6         1.4  virginica\n",
       "136          7.7         3.0          6.1         2.3  virginica\n",
       "137          6.3         3.4          5.6         2.4  virginica\n",
       "138          6.4         3.1          5.5         1.8  virginica\n",
       "139          6.0         3.0          4.8         1.8  virginica\n",
       "140          6.9         3.1          5.4         2.1  virginica\n",
       "141          6.7         3.1          5.6         2.4  virginica\n",
       "142          6.9         3.1          5.1         2.3  virginica\n",
       "143          5.8         2.7          5.1         1.9  virginica\n",
       "144          6.8         3.2          5.9         2.3  virginica\n",
       "145          6.7         3.3          5.7         2.5  virginica\n",
       "146          6.7         3.0          5.2         2.3  virginica\n",
       "147          6.3         2.5          5.0         1.9  virginica\n",
       "148          6.5         3.0          5.2         2.0  virginica\n",
       "149          6.2         3.4          5.4         2.3  virginica\n",
       "150          5.9         3.0          5.1         1.8  virginica"
      ]
     },
     "execution_count": 1,
     "metadata": {},
     "output_type": "execute_result"
    }
   ],
   "source": [
    "iris"
   ]
  },
  {
   "cell_type": "code",
   "execution_count": 2,
   "metadata": {
    "collapsed": false
   },
   "outputs": [
    {
     "data": {
      "text/html": [
       "\"data.frame\""
      ],
      "text/latex": [
       "\"data.frame\""
      ],
      "text/markdown": [
       "\"data.frame\""
      ],
      "text/plain": [
       "[1] \"data.frame\""
      ]
     },
     "execution_count": 2,
     "metadata": {},
     "output_type": "execute_result"
    }
   ],
   "source": [
    "# show iris data type\n",
    "class(iris)"
   ]
  },
  {
   "cell_type": "code",
   "execution_count": 3,
   "metadata": {
    "collapsed": false
   },
   "outputs": [
    {
     "data": {
      "text/html": [
       "150"
      ],
      "text/latex": [
       "150"
      ],
      "text/markdown": [
       "150"
      ],
      "text/plain": [
       "[1] 150"
      ]
     },
     "execution_count": 3,
     "metadata": {},
     "output_type": "execute_result"
    }
   ],
   "source": [
    "# count rows\n",
    "nrow(iris)"
   ]
  },
  {
   "cell_type": "code",
   "execution_count": 4,
   "metadata": {
    "collapsed": false
   },
   "outputs": [
    {
     "data": {
      "text/html": [
       "5"
      ],
      "text/latex": [
       "5"
      ],
      "text/markdown": [
       "5"
      ],
      "text/plain": [
       "[1] 5"
      ]
     },
     "execution_count": 4,
     "metadata": {},
     "output_type": "execute_result"
    }
   ],
   "source": [
    "# count columns\n",
    "ncol(iris)"
   ]
  },
  {
   "cell_type": "code",
   "execution_count": 5,
   "metadata": {
    "collapsed": false
   },
   "outputs": [
    {
     "data": {
      "text/html": [
       "<table>\n",
       "<thead><tr><th></th><th scope=col>Sepal.Length</th><th scope=col>Sepal.Width</th><th scope=col>Petal.Length</th><th scope=col>Petal.Width</th><th scope=col>Species</th></tr></thead>\n",
       "<tbody>\n",
       "\t<tr><th scope=row>1</th><td>5.1</td><td>3.5</td><td>1.4</td><td>0.2</td><td>setosa</td></tr>\n",
       "\t<tr><th scope=row>2</th><td>4.9</td><td>3</td><td>1.4</td><td>0.2</td><td>setosa</td></tr>\n",
       "\t<tr><th scope=row>3</th><td>4.7</td><td>3.2</td><td>1.3</td><td>0.2</td><td>setosa</td></tr>\n",
       "\t<tr><th scope=row>4</th><td>4.6</td><td>3.1</td><td>1.5</td><td>0.2</td><td>setosa</td></tr>\n",
       "\t<tr><th scope=row>5</th><td>5</td><td>3.6</td><td>1.4</td><td>0.2</td><td>setosa</td></tr>\n",
       "\t<tr><th scope=row>6</th><td>5.4</td><td>3.9</td><td>1.7</td><td>0.4</td><td>setosa</td></tr>\n",
       "</tbody>\n",
       "</table>\n"
      ],
      "text/latex": [
       "\\begin{tabular}{r|lllll}\n",
       "  & Sepal.Length & Sepal.Width & Petal.Length & Petal.Width & Species\\\\\n",
       "\\hline\n",
       "\t1 & 5.1 & 3.5 & 1.4 & 0.2 & setosa\\\\\n",
       "\t2 & 4.9 & 3 & 1.4 & 0.2 & setosa\\\\\n",
       "\t3 & 4.7 & 3.2 & 1.3 & 0.2 & setosa\\\\\n",
       "\t4 & 4.6 & 3.1 & 1.5 & 0.2 & setosa\\\\\n",
       "\t5 & 5 & 3.6 & 1.4 & 0.2 & setosa\\\\\n",
       "\t6 & 5.4 & 3.9 & 1.7 & 0.4 & setosa\\\\\n",
       "\\end{tabular}\n"
      ],
      "text/plain": [
       "  Sepal.Length Sepal.Width Petal.Length Petal.Width Species\n",
       "1          5.1         3.5          1.4         0.2  setosa\n",
       "2          4.9         3.0          1.4         0.2  setosa\n",
       "3          4.7         3.2          1.3         0.2  setosa\n",
       "4          4.6         3.1          1.5         0.2  setosa\n",
       "5          5.0         3.6          1.4         0.2  setosa\n",
       "6          5.4         3.9          1.7         0.4  setosa"
      ]
     },
     "execution_count": 5,
     "metadata": {},
     "output_type": "execute_result"
    }
   ],
   "source": [
    "# show first rows\n",
    "head(iris)"
   ]
  },
  {
   "cell_type": "code",
   "execution_count": 6,
   "metadata": {
    "collapsed": false
   },
   "outputs": [
    {
     "data": {
      "text/plain": [
       "  Sepal.Length    Sepal.Width     Petal.Length    Petal.Width   \n",
       " Min.   :4.300   Min.   :2.000   Min.   :1.000   Min.   :0.100  \n",
       " 1st Qu.:5.100   1st Qu.:2.800   1st Qu.:1.600   1st Qu.:0.300  \n",
       " Median :5.800   Median :3.000   Median :4.350   Median :1.300  \n",
       " Mean   :5.843   Mean   :3.057   Mean   :3.758   Mean   :1.199  \n",
       " 3rd Qu.:6.400   3rd Qu.:3.300   3rd Qu.:5.100   3rd Qu.:1.800  \n",
       " Max.   :7.900   Max.   :4.400   Max.   :6.900   Max.   :2.500  \n",
       "       Species  \n",
       " setosa    :50  \n",
       " versicolor:50  \n",
       " virginica :50  \n",
       "                \n",
       "                \n",
       "                "
      ]
     },
     "execution_count": 6,
     "metadata": {},
     "output_type": "execute_result"
    }
   ],
   "source": [
    "summary(iris)"
   ]
  },
  {
   "cell_type": "code",
   "execution_count": 7,
   "metadata": {
    "collapsed": false
   },
   "outputs": [
    {
     "data": {
      "text/html": [
       "<ol class=list-inline>\n",
       "\t<li>1.4</li>\n",
       "\t<li>1.4</li>\n",
       "\t<li>1.3</li>\n",
       "\t<li>1.5</li>\n",
       "\t<li>1.4</li>\n",
       "\t<li>1.7</li>\n",
       "</ol>\n"
      ],
      "text/latex": [
       "\\begin{enumerate*}\n",
       "\\item 1.4\n",
       "\\item 1.4\n",
       "\\item 1.3\n",
       "\\item 1.5\n",
       "\\item 1.4\n",
       "\\item 1.7\n",
       "\\end{enumerate*}\n"
      ],
      "text/markdown": [
       "1. 1.4\n",
       "2. 1.4\n",
       "3. 1.3\n",
       "4. 1.5\n",
       "5. 1.4\n",
       "6. 1.7\n",
       "\n",
       "\n"
      ],
      "text/plain": [
       "[1] 1.4 1.4 1.3 1.5 1.4 1.7"
      ]
     },
     "execution_count": 7,
     "metadata": {},
     "output_type": "execute_result"
    },
    {
     "data": {
      "text/html": [
       "<ol class=list-inline>\n",
       "\t<li>1.4</li>\n",
       "\t<li>1.4</li>\n",
       "\t<li>1.3</li>\n",
       "\t<li>1.5</li>\n",
       "\t<li>1.4</li>\n",
       "\t<li>1.7</li>\n",
       "</ol>\n"
      ],
      "text/latex": [
       "\\begin{enumerate*}\n",
       "\\item 1.4\n",
       "\\item 1.4\n",
       "\\item 1.3\n",
       "\\item 1.5\n",
       "\\item 1.4\n",
       "\\item 1.7\n",
       "\\end{enumerate*}\n"
      ],
      "text/markdown": [
       "1. 1.4\n",
       "2. 1.4\n",
       "3. 1.3\n",
       "4. 1.5\n",
       "5. 1.4\n",
       "6. 1.7\n",
       "\n",
       "\n"
      ],
      "text/plain": [
       "[1] 1.4 1.4 1.3 1.5 1.4 1.7"
      ]
     },
     "execution_count": 7,
     "metadata": {},
     "output_type": "execute_result"
    },
    {
     "data": {
      "text/html": [
       "<ol class=list-inline>\n",
       "\t<li>1.4</li>\n",
       "\t<li>1.4</li>\n",
       "\t<li>1.3</li>\n",
       "\t<li>1.5</li>\n",
       "\t<li>1.4</li>\n",
       "\t<li>1.7</li>\n",
       "</ol>\n"
      ],
      "text/latex": [
       "\\begin{enumerate*}\n",
       "\\item 1.4\n",
       "\\item 1.4\n",
       "\\item 1.3\n",
       "\\item 1.5\n",
       "\\item 1.4\n",
       "\\item 1.7\n",
       "\\end{enumerate*}\n"
      ],
      "text/markdown": [
       "1. 1.4\n",
       "2. 1.4\n",
       "3. 1.3\n",
       "4. 1.5\n",
       "5. 1.4\n",
       "6. 1.7\n",
       "\n",
       "\n"
      ],
      "text/plain": [
       "[1] 1.4 1.4 1.3 1.5 1.4 1.7"
      ]
     },
     "execution_count": 7,
     "metadata": {},
     "output_type": "execute_result"
    }
   ],
   "source": [
    "# ways to get a column (vector)\n",
    "head(iris$Petal.Length)\n",
    "head(iris[[3]])\n",
    "head(iris[,3])"
   ]
  },
  {
   "cell_type": "code",
   "execution_count": null,
   "metadata": {
    "collapsed": true
   },
   "outputs": [],
   "source": [
    "head(irisè)"
   ]
  },
  {
   "cell_type": "code",
   "execution_count": null,
   "metadata": {
    "collapsed": true
   },
   "outputs": [],
   "source": []
  },
  {
   "cell_type": "code",
   "execution_count": 8,
   "metadata": {
    "collapsed": false
   },
   "outputs": [
    {
     "data": {
      "text/html": [
       "<table>\n",
       "<thead><tr><th></th><th scope=col>Petal.Length</th></tr></thead>\n",
       "<tbody>\n",
       "\t<tr><th scope=row>1</th><td>1.4</td></tr>\n",
       "\t<tr><th scope=row>2</th><td>1.4</td></tr>\n",
       "\t<tr><th scope=row>3</th><td>1.3</td></tr>\n",
       "\t<tr><th scope=row>4</th><td>1.5</td></tr>\n",
       "\t<tr><th scope=row>5</th><td>1.4</td></tr>\n",
       "\t<tr><th scope=row>6</th><td>1.7</td></tr>\n",
       "</tbody>\n",
       "</table>\n"
      ],
      "text/latex": [
       "\\begin{tabular}{r|l}\n",
       "  & Petal.Length\\\\\n",
       "\\hline\n",
       "\t1 & 1.4\\\\\n",
       "\t2 & 1.4\\\\\n",
       "\t3 & 1.3\\\\\n",
       "\t4 & 1.5\\\\\n",
       "\t5 & 1.4\\\\\n",
       "\t6 & 1.7\\\\\n",
       "\\end{tabular}\n"
      ],
      "text/plain": [
       "  Petal.Length\n",
       "1          1.4\n",
       "2          1.4\n",
       "3          1.3\n",
       "4          1.5\n",
       "5          1.4\n",
       "6          1.7"
      ]
     },
     "execution_count": 8,
     "metadata": {},
     "output_type": "execute_result"
    },
    {
     "data": {
      "text/html": [
       "<table>\n",
       "<thead><tr><th></th><th scope=col>Petal.Length</th><th scope=col>Petal.Width</th></tr></thead>\n",
       "<tbody>\n",
       "\t<tr><th scope=row>1</th><td>1.4</td><td>0.2</td></tr>\n",
       "\t<tr><th scope=row>2</th><td>1.4</td><td>0.2</td></tr>\n",
       "\t<tr><th scope=row>3</th><td>1.3</td><td>0.2</td></tr>\n",
       "\t<tr><th scope=row>4</th><td>1.5</td><td>0.2</td></tr>\n",
       "\t<tr><th scope=row>5</th><td>1.4</td><td>0.2</td></tr>\n",
       "\t<tr><th scope=row>6</th><td>1.7</td><td>0.4</td></tr>\n",
       "</tbody>\n",
       "</table>\n"
      ],
      "text/latex": [
       "\\begin{tabular}{r|ll}\n",
       "  & Petal.Length & Petal.Width\\\\\n",
       "\\hline\n",
       "\t1 & 1.4 & 0.2\\\\\n",
       "\t2 & 1.4 & 0.2\\\\\n",
       "\t3 & 1.3 & 0.2\\\\\n",
       "\t4 & 1.5 & 0.2\\\\\n",
       "\t5 & 1.4 & 0.2\\\\\n",
       "\t6 & 1.7 & 0.4\\\\\n",
       "\\end{tabular}\n"
      ],
      "text/plain": [
       "  Petal.Length Petal.Width\n",
       "1          1.4         0.2\n",
       "2          1.4         0.2\n",
       "3          1.3         0.2\n",
       "4          1.5         0.2\n",
       "5          1.4         0.2\n",
       "6          1.7         0.4"
      ]
     },
     "execution_count": 8,
     "metadata": {},
     "output_type": "execute_result"
    },
    {
     "data": {
      "text/html": [
       "<table>\n",
       "<thead><tr><th></th><th scope=col>Sepal.Length</th><th scope=col>Sepal.Width</th><th scope=col>Petal.Width</th><th scope=col>Species</th></tr></thead>\n",
       "<tbody>\n",
       "\t<tr><th scope=row>1</th><td>5.1</td><td>3.5</td><td>0.2</td><td>setosa</td></tr>\n",
       "\t<tr><th scope=row>2</th><td>4.9</td><td>3</td><td>0.2</td><td>setosa</td></tr>\n",
       "\t<tr><th scope=row>3</th><td>4.7</td><td>3.2</td><td>0.2</td><td>setosa</td></tr>\n",
       "\t<tr><th scope=row>4</th><td>4.6</td><td>3.1</td><td>0.2</td><td>setosa</td></tr>\n",
       "\t<tr><th scope=row>5</th><td>5</td><td>3.6</td><td>0.2</td><td>setosa</td></tr>\n",
       "\t<tr><th scope=row>6</th><td>5.4</td><td>3.9</td><td>0.4</td><td>setosa</td></tr>\n",
       "</tbody>\n",
       "</table>\n"
      ],
      "text/latex": [
       "\\begin{tabular}{r|llll}\n",
       "  & Sepal.Length & Sepal.Width & Petal.Width & Species\\\\\n",
       "\\hline\n",
       "\t1 & 5.1 & 3.5 & 0.2 & setosa\\\\\n",
       "\t2 & 4.9 & 3 & 0.2 & setosa\\\\\n",
       "\t3 & 4.7 & 3.2 & 0.2 & setosa\\\\\n",
       "\t4 & 4.6 & 3.1 & 0.2 & setosa\\\\\n",
       "\t5 & 5 & 3.6 & 0.2 & setosa\\\\\n",
       "\t6 & 5.4 & 3.9 & 0.4 & setosa\\\\\n",
       "\\end{tabular}\n"
      ],
      "text/plain": [
       "  Sepal.Length Sepal.Width Petal.Width Species\n",
       "1          5.1         3.5         0.2  setosa\n",
       "2          4.9         3.0         0.2  setosa\n",
       "3          4.7         3.2         0.2  setosa\n",
       "4          4.6         3.1         0.2  setosa\n",
       "5          5.0         3.6         0.2  setosa\n",
       "6          5.4         3.9         0.4  setosa"
      ]
     },
     "execution_count": 8,
     "metadata": {},
     "output_type": "execute_result"
    },
    {
     "data": {
      "text/html": [
       "<table>\n",
       "<thead><tr><th></th><th scope=col>Petal.Length</th></tr></thead>\n",
       "<tbody>\n",
       "\t<tr><th scope=row>1</th><td>1.4</td></tr>\n",
       "\t<tr><th scope=row>2</th><td>1.4</td></tr>\n",
       "\t<tr><th scope=row>3</th><td>1.3</td></tr>\n",
       "\t<tr><th scope=row>4</th><td>1.5</td></tr>\n",
       "\t<tr><th scope=row>5</th><td>1.4</td></tr>\n",
       "\t<tr><th scope=row>6</th><td>1.7</td></tr>\n",
       "</tbody>\n",
       "</table>\n"
      ],
      "text/latex": [
       "\\begin{tabular}{r|l}\n",
       "  & Petal.Length\\\\\n",
       "\\hline\n",
       "\t1 & 1.4\\\\\n",
       "\t2 & 1.4\\\\\n",
       "\t3 & 1.3\\\\\n",
       "\t4 & 1.5\\\\\n",
       "\t5 & 1.4\\\\\n",
       "\t6 & 1.7\\\\\n",
       "\\end{tabular}\n"
      ],
      "text/plain": [
       "  Petal.Length\n",
       "1          1.4\n",
       "2          1.4\n",
       "3          1.3\n",
       "4          1.5\n",
       "5          1.4\n",
       "6          1.7"
      ]
     },
     "execution_count": 8,
     "metadata": {},
     "output_type": "execute_result"
    },
    {
     "data": {
      "text/html": [
       "<table>\n",
       "<thead><tr><th></th><th scope=col>Petal.Length</th><th scope=col>Petal.Width</th></tr></thead>\n",
       "<tbody>\n",
       "\t<tr><th scope=row>1</th><td>1.4</td><td>0.2</td></tr>\n",
       "\t<tr><th scope=row>2</th><td>1.4</td><td>0.2</td></tr>\n",
       "\t<tr><th scope=row>3</th><td>1.3</td><td>0.2</td></tr>\n",
       "\t<tr><th scope=row>4</th><td>1.5</td><td>0.2</td></tr>\n",
       "\t<tr><th scope=row>5</th><td>1.4</td><td>0.2</td></tr>\n",
       "\t<tr><th scope=row>6</th><td>1.7</td><td>0.4</td></tr>\n",
       "</tbody>\n",
       "</table>\n"
      ],
      "text/latex": [
       "\\begin{tabular}{r|ll}\n",
       "  & Petal.Length & Petal.Width\\\\\n",
       "\\hline\n",
       "\t1 & 1.4 & 0.2\\\\\n",
       "\t2 & 1.4 & 0.2\\\\\n",
       "\t3 & 1.3 & 0.2\\\\\n",
       "\t4 & 1.5 & 0.2\\\\\n",
       "\t5 & 1.4 & 0.2\\\\\n",
       "\t6 & 1.7 & 0.4\\\\\n",
       "\\end{tabular}\n"
      ],
      "text/plain": [
       "  Petal.Length Petal.Width\n",
       "1          1.4         0.2\n",
       "2          1.4         0.2\n",
       "3          1.3         0.2\n",
       "4          1.5         0.2\n",
       "5          1.4         0.2\n",
       "6          1.7         0.4"
      ]
     },
     "execution_count": 8,
     "metadata": {},
     "output_type": "execute_result"
    }
   ],
   "source": [
    "# get a data frame slice for columns\n",
    "head(iris[3])\n",
    "head(iris[3:4])\n",
    "head(iris[-3])\n",
    "head(iris[\"Petal.Length\"])\n",
    "head(iris[c(\"Petal.Length\", \"Petal.Width\")])"
   ]
  },
  {
   "cell_type": "code",
   "execution_count": null,
   "metadata": {
    "collapsed": false
   },
   "outputs": [],
   "source": [
    "# get a data frame slice for rows\n",
    "iris[2,]\n",
    "iris[\"10\",]"
   ]
  },
  {
   "cell_type": "code",
   "execution_count": null,
   "metadata": {
    "collapsed": false
   },
   "outputs": [],
   "source": [
    "# get a single \"cell\"\n",
    "iris[[1,2]]"
   ]
  },
  {
   "cell_type": "code",
   "execution_count": null,
   "metadata": {
    "collapsed": false
   },
   "outputs": [],
   "source": [
    "# plot some data\n",
    "BG = c(\"red\", \"green\", \"blue\")\n",
    "plot(iris$Sepal.Length, iris$Sepal.Width, bg=BG[unclass(iris$Species)], pch=21)"
   ]
  },
  {
   "cell_type": "code",
   "execution_count": null,
   "metadata": {
    "collapsed": false
   },
   "outputs": [],
   "source": [
    "plot(iris[[3]], iris[[4]], bg=BG[unclass(iris$Species)], pch=21)"
   ]
  },
  {
   "cell_type": "code",
   "execution_count": null,
   "metadata": {
    "collapsed": false
   },
   "outputs": [],
   "source": [
    "plot(iris[1:4], bg=BG[unclass(iris$Species)], pch=21)"
   ]
  }
 ],
 "metadata": {
  "kernelspec": {
   "display_name": "R",
   "language": "R",
   "name": "ir"
  },
  "language_info": {
   "codemirror_mode": "r",
   "file_extension": ".r",
   "mimetype": "text/x-r-source",
   "name": "R",
   "pygments_lexer": "r",
   "version": "3.1.3"
  }
 },
 "nbformat": 4,
 "nbformat_minor": 0
}
